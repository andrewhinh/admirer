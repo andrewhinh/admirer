{
 "cells": [
  {
   "cell_type": "markdown",
   "metadata": {},
   "source": [
    "# Continuous Deployment with AWS Lambda"
   ]
  },
  {
   "cell_type": "markdown",
   "metadata": {},
   "source": [
    "## Imports"
   ]
  },
  {
   "cell_type": "code",
   "execution_count": null,
   "metadata": {
    "execution": {
     "iopub.execute_input": "2022-11-01T06:57:44.659654Z",
     "iopub.status.busy": "2022-11-01T06:57:44.659500Z",
     "iopub.status.idle": "2022-11-01T06:57:47.159997Z",
     "shell.execute_reply": "2022-11-01T06:57:47.159342Z"
    }
   },
   "outputs": [],
   "source": [
    "import json\n",
    "import os\n",
    "import requests\n",
    "import sys\n",
    "sys.path.append(\"../\")\n",
    "\n",
    "from app_gradio import app\n",
    "from question_answer.answer import Pipeline"
   ]
  },
  {
   "cell_type": "markdown",
   "metadata": {},
   "source": [
    "## Build container image"
   ]
  },
  {
   "cell_type": "code",
   "execution_count": null,
   "metadata": {
    "execution": {
     "iopub.execute_input": "2022-11-01T06:57:47.163259Z",
     "iopub.status.busy": "2022-11-01T06:57:47.163164Z",
     "iopub.status.idle": "2022-11-01T06:57:47.165728Z",
     "shell.execute_reply": "2022-11-01T06:57:47.165207Z"
    }
   },
   "outputs": [],
   "source": [
    "os.environ[\"LAMBDA_NAME\"] = \"admirer-backend\""
   ]
  },
  {
   "cell_type": "code",
   "execution_count": null,
   "metadata": {
    "execution": {
     "iopub.execute_input": "2022-11-01T06:57:47.167920Z",
     "iopub.status.busy": "2022-11-01T06:57:47.167830Z",
     "iopub.status.idle": "2022-11-01T06:57:47.171319Z",
     "shell.execute_reply": "2022-11-01T06:57:47.170837Z"
    }
   },
   "outputs": [],
   "source": [
    "%cd .."
   ]
  },
  {
   "cell_type": "code",
   "execution_count": null,
   "metadata": {
    "execution": {
     "iopub.execute_input": "2022-11-01T06:57:47.201981Z",
     "iopub.status.busy": "2022-11-01T06:57:47.201867Z",
     "iopub.status.idle": "2022-11-01T07:00:03.039784Z",
     "shell.execute_reply": "2022-11-01T07:00:03.039132Z"
    }
   },
   "outputs": [],
   "source": [
    "!docker build --no-cache -t $LAMBDA_NAME . --file api_serverless/Dockerfile"
   ]
  },
  {
   "cell_type": "code",
   "execution_count": null,
   "metadata": {
    "execution": {
     "iopub.execute_input": "2022-11-01T07:00:03.042594Z",
     "iopub.status.busy": "2022-11-01T07:00:03.042414Z",
     "iopub.status.idle": "2022-11-01T07:00:03.046409Z",
     "shell.execute_reply": "2022-11-01T07:00:03.045839Z"
    }
   },
   "outputs": [],
   "source": [
    "%cd backend_setup"
   ]
  },
  {
   "cell_type": "markdown",
   "metadata": {},
   "source": [
    "## Upload to the container registry"
   ]
  },
  {
   "cell_type": "code",
   "execution_count": null,
   "metadata": {
    "execution": {
     "iopub.execute_input": "2022-11-01T07:00:03.048874Z",
     "iopub.status.busy": "2022-11-01T07:00:03.048711Z",
     "iopub.status.idle": "2022-11-01T07:00:04.468432Z",
     "shell.execute_reply": "2022-11-01T07:00:04.467916Z"
    }
   },
   "outputs": [],
   "source": [
    "aws_account_id, = !aws sts get-caller-identity \\\n",
    "  --query \"Account\"\n",
    "aws_region, = !aws configure get region \n",
    "\n",
    "os.environ[\"AWS_REGION\"] = aws_region\n",
    "os.environ[\"AWS_ACCOUNT_ID\"] = aws_account_id.strip('\"')\n",
    "\n",
    "!echo $AWS_ACCOUNT_ID\n",
    "!echo $AWS_REGION"
   ]
  },
  {
   "cell_type": "code",
   "execution_count": null,
   "metadata": {
    "execution": {
     "iopub.execute_input": "2022-11-01T07:00:04.471381Z",
     "iopub.status.busy": "2022-11-01T07:00:04.471174Z",
     "iopub.status.idle": "2022-11-01T07:00:04.632083Z",
     "shell.execute_reply": "2022-11-01T07:00:04.631295Z"
    }
   },
   "outputs": [],
   "source": [
    "os.environ[\"ECR_URI\"] = \".\".join(\n",
    "    [os.environ[\"AWS_ACCOUNT_ID\"], \"dkr\", \"ecr\", os.environ[\"AWS_REGION\"], \"amazonaws.com\"])\n",
    "\n",
    "!echo $ECR_URI"
   ]
  },
  {
   "cell_type": "code",
   "execution_count": null,
   "metadata": {
    "execution": {
     "iopub.execute_input": "2022-11-01T07:00:04.634913Z",
     "iopub.status.busy": "2022-11-01T07:00:04.634731Z",
     "iopub.status.idle": "2022-11-01T07:00:05.687222Z",
     "shell.execute_reply": "2022-11-01T07:00:05.686422Z"
    }
   },
   "outputs": [],
   "source": [
    "!aws ecr get-login-password --region $AWS_REGION \\\n",
    "  | docker login --username AWS --password-stdin $ECR_URI"
   ]
  },
  {
   "cell_type": "code",
   "execution_count": null,
   "metadata": {
    "execution": {
     "iopub.execute_input": "2022-11-01T07:00:05.690426Z",
     "iopub.status.busy": "2022-11-01T07:00:05.690239Z",
     "iopub.status.idle": "2022-11-01T07:00:06.491975Z",
     "shell.execute_reply": "2022-11-01T07:00:06.490882Z"
    }
   },
   "outputs": [],
   "source": [
    "!aws ecr create-repository \\\n",
    "  --repository-name $LAMBDA_NAME \\\n",
    "  --image-scanning-configuration scanOnPush=true --image-tag-mutability MUTABLE \\\n",
    "  | jq -C"
   ]
  },
  {
   "cell_type": "code",
   "execution_count": null,
   "metadata": {
    "execution": {
     "iopub.execute_input": "2022-11-01T07:00:06.494844Z",
     "iopub.status.busy": "2022-11-01T07:00:06.494639Z",
     "iopub.status.idle": "2022-11-01T07:00:06.498685Z",
     "shell.execute_reply": "2022-11-01T07:00:06.497798Z"
    }
   },
   "outputs": [],
   "source": [
    "os.environ[\"IMAGE_URI\"] = \"/\".join([os.environ[\"ECR_URI\"], os.environ[\"LAMBDA_NAME\"]])"
   ]
  },
  {
   "cell_type": "code",
   "execution_count": null,
   "metadata": {
    "execution": {
     "iopub.execute_input": "2022-11-01T07:00:06.501015Z",
     "iopub.status.busy": "2022-11-01T07:00:06.500856Z",
     "iopub.status.idle": "2022-11-01T07:00:06.696306Z",
     "shell.execute_reply": "2022-11-01T07:00:06.695669Z"
    }
   },
   "outputs": [],
   "source": [
    "!docker tag $LAMBDA_NAME\\:latest $IMAGE_URI\\:latest"
   ]
  },
  {
   "cell_type": "code",
   "execution_count": null,
   "metadata": {
    "execution": {
     "iopub.execute_input": "2022-11-01T07:00:06.698669Z",
     "iopub.status.busy": "2022-11-01T07:00:06.698577Z",
     "iopub.status.idle": "2022-11-01T07:03:57.662117Z",
     "shell.execute_reply": "2022-11-01T07:03:57.661388Z"
    }
   },
   "outputs": [],
   "source": [
    "!docker push $IMAGE_URI\\:latest"
   ]
  }
 ],
 "metadata": {
  "kernelspec": {
   "display_name": "Python 3.7.13 64-bit ('admirer')",
   "language": "python",
   "name": "python3"
  },
  "language_info": {
   "codemirror_mode": {
    "name": "ipython",
    "version": 3
   },
   "file_extension": ".py",
   "mimetype": "text/x-python",
   "name": "python",
   "nbconvert_exporter": "python",
   "pygments_lexer": "ipython3",
   "version": "3.7.13"
  },
  "vscode": {
   "interpreter": {
    "hash": "4c4de3d17692a4fce36158e1e6b4cc65d2c1c1dbb8a445fcd77e7a07c1299f79"
   }
  }
 },
 "nbformat": 4,
 "nbformat_minor": 2
}
