{
  "nbformat": 4,
  "nbformat_minor": 0,
  "metadata": {
    "colab": {
      "name": "lab99_new_2022.ipynb",
      "provenance": [],
      "collapsed_sections": [
        "ON4KbRAjMHaz"
      ],
      "toc_visible": true,
      "private_outputs": true,
      "include_colab_link": true
    },
    "kernelspec": {
      "name": "python3",
      "display_name": "Python 3"
    },
    "language_info": {
      "name": "python"
    },
    "accelerator": "GPU",
    "gpuClass": "standard"
  },
  "cells": [
    {
      "cell_type": "markdown",
      "metadata": {
        "id": "view-in-github",
        "colab_type": "text"
      },
      "source": [
        "<a href=\"https://colab.research.google.com/github/full-stack-deep-learning/fsdl-text-recognizer-2022/blob/main/notebooks/lab99_new_2022.ipynb\" target=\"_parent\"><img src=\"https://colab.research.google.com/assets/colab-badge.svg\" alt=\"Open In Colab\"/></a>"
      ]
    },
    {
      "cell_type": "markdown",
      "source": [
        "<img src=\"https://fsdl.me/logo-720-dark-horizontal\">"
      ],
      "metadata": {
        "id": "iMdDU79LiDqd"
      }
    },
    {
      "cell_type": "markdown",
      "source": [
        "# 🥞 FSDL: What's ✨ New in 2022 ✨"
      ],
      "metadata": {
        "id": "7yQQTA9IGDt8"
      }
    },
    {
      "cell_type": "markdown",
      "source": [
        "This notebook walks you through environment setup, model training, and deployment for FSDL in its new 2022 iteration.\n",
        "\n",
        "Right now, it's only expected to work on Colab."
      ],
      "metadata": {
        "id": "lpjrrEFVMgEG"
      }
    },
    {
      "cell_type": "markdown",
      "source": [
        "## Setup"
      ],
      "metadata": {
        "id": "FqPe8HfMThuH"
      }
    },
    {
      "cell_type": "code",
      "source": [
        "import sys\n",
        "\n",
        "in_colab = \"google.colab\" in sys.modules\n",
        "repo = \"fsdl-text-recognizer-2022\"\n",
        "\n",
        "assert in_colab\n",
        "\n",
        "!git clone https://github.com/full-stack-deep-learning/{repo}"
      ],
      "metadata": {
        "id": "uklU2RGrhtyq"
      },
      "execution_count": null,
      "outputs": []
    },
    {
      "cell_type": "markdown",
      "source": [
        "Now we `cd` into the cloned repo and take a look around."
      ],
      "metadata": {
        "id": "DTeioV18GXiC"
      }
    },
    {
      "cell_type": "code",
      "source": [
        "%cd /content/{repo}/\n",
        "!ls"
      ],
      "metadata": {
        "id": "BDR54ZV1j5_P"
      },
      "execution_count": null,
      "outputs": []
    },
    {
      "cell_type": "markdown",
      "source": [
        "We need to install the `requirements` for both `prod`uction and `dev`evelopment."
      ],
      "metadata": {
        "id": "4zJ1uDn1Gc4b"
      }
    },
    {
      "cell_type": "markdown",
      "source": [
        "Timing our installs so we can keep an eye on the latency from opening a Colab to doing useful work.\n",
        "\n",
        "It should never be more than three minutes."
      ],
      "metadata": {
        "id": "Xe_D_UW8GiUS"
      }
    },
    {
      "cell_type": "code",
      "source": [
        "%%time\n",
        "!pip install -r requirements/prod.in"
      ],
      "metadata": {
        "id": "ICSOw7MwEizK"
      },
      "execution_count": null,
      "outputs": []
    },
    {
      "cell_type": "markdown",
      "source": [
        "We also install the requirements from `dev`, using a cute `sed`/`xargs` CLI combo:"
      ],
      "metadata": {
        "id": "B1L0f7pyGprc"
      }
    },
    {
      "cell_type": "code",
      "source": [
        "%%time\n",
        "!sed 1d requirements/dev.in | grep -v \"#\" | xargs pip install"
      ],
      "metadata": {
        "id": "gjX-dnEMeBWF"
      },
      "execution_count": null,
      "outputs": []
    },
    {
      "cell_type": "markdown",
      "source": [
        "## Finalizing Setup and Checking Imports"
      ],
      "metadata": {
        "id": "aPEKQAmierzV"
      }
    },
    {
      "cell_type": "code",
      "source": [
        "import pytorch_lightning as pl  # do we have our dev dependencies?"
      ],
      "metadata": {
        "id": "MVcZ-50GXupi"
      },
      "execution_count": null,
      "outputs": []
    },
    {
      "cell_type": "markdown",
      "source": [
        "We update the `PYTHONPATH` so that the library is on the path."
      ],
      "metadata": {
        "id": "51mzAe9MG_w8"
      }
    },
    {
      "cell_type": "code",
      "source": [
        "pythonpath = !echo $PYTHONPATH\n",
        "if \".\" not in pythonpath[-1]:\n",
        "  pythonpath = [\".\"] + pythonpath\n",
        "  %env PYTHONPATH={\":\".join(pythonpath)}"
      ],
      "metadata": {
        "id": "SFfejRtEZLOl"
      },
      "execution_count": null,
      "outputs": []
    },
    {
      "cell_type": "markdown",
      "source": [
        "We turn on autoreload to allow \"hot\" code editing in the library."
      ],
      "metadata": {
        "id": "Y5ygaaRoG7b2"
      }
    },
    {
      "cell_type": "code",
      "source": [
        "%load_ext autoreload\n",
        "%autoreload 2"
      ],
      "metadata": {
        "id": "wNgLee6dZRW5"
      },
      "execution_count": null,
      "outputs": []
    },
    {
      "cell_type": "markdown",
      "source": [
        "Then we check to make sure it's all importable:"
      ],
      "metadata": {
        "id": "eKqWX9zgHGtt"
      }
    },
    {
      "cell_type": "code",
      "source": [
        "import text_recognizer\n",
        "import training  # ✨ NEW 2022: training is now a module of its own"
      ],
      "metadata": {
        "id": "zztToruiZHD-"
      },
      "execution_count": null,
      "outputs": []
    },
    {
      "cell_type": "code",
      "source": [
        "from text_recognizer.paragraph_text_recognizer import ParagraphTextRecognizer"
      ],
      "metadata": {
        "id": "8MAJdQC_ZY3i"
      },
      "execution_count": null,
      "outputs": []
    },
    {
      "cell_type": "code",
      "source": [
        "import text_recognizer.data"
      ],
      "metadata": {
        "id": "JvwoCr4bte_d"
      },
      "execution_count": null,
      "outputs": []
    },
    {
      "cell_type": "markdown",
      "source": [
        "## Training\n",
        "\n",
        "Training is still primarily done through the `run_experiment.py` script."
      ],
      "metadata": {
        "id": "VoJJRFpJH_Oq"
      }
    },
    {
      "cell_type": "markdown",
      "source": [
        "#### Unfurl this section to see the `--help` output.\n",
        "\n",
        "For help with data/model-specific arguments, provide a `--data_class` and `--model_class` in addition to `--help`."
      ],
      "metadata": {
        "id": "ON4KbRAjMHaz"
      }
    },
    {
      "cell_type": "code",
      "source": [
        "%run training/run_experiment.py --help"
      ],
      "metadata": {
        "id": "IiiQQzA2IJqw"
      },
      "execution_count": null,
      "outputs": []
    },
    {
      "cell_type": "markdown",
      "source": [
        "### MNIST Hello World!"
      ],
      "metadata": {
        "id": "zn_ZrXb_LT9r"
      }
    },
    {
      "cell_type": "markdown",
      "source": [
        "We start off with something really simple: one epoch of digit recognition with local logging and no acceleration."
      ],
      "metadata": {
        "id": "wDt-bTlLMXFr"
      }
    },
    {
      "cell_type": "code",
      "source": [
        "%run training/run_experiment.py --gpus=0 --max_epochs 1"
      ],
      "metadata": {
        "id": "zFot8A0H1Dvp"
      },
      "execution_count": null,
      "outputs": []
    },
    {
      "cell_type": "markdown",
      "source": [
        "### ✨ NEW 2022: Profiling"
      ],
      "metadata": {
        "id": "zF74F8saLarf"
      }
    },
    {
      "cell_type": "markdown",
      "source": [
        "We now have the PyTorch profiler available (outside of distributed training, where profiling is still hard).\n",
        "\n",
        "Just pass the `--profile` flag in to `training/run_experiment.py`"
      ],
      "metadata": {
        "id": "ALE6MjHGHdXW"
      }
    },
    {
      "cell_type": "markdown",
      "source": [
        "The cell below profiles the `ResnetTransformer` on the real dataset.\n",
        "\n",
        "You can see an example profile (in Tensorboard on W&B) [here](https://wandb.ai/cfrye59/test-colab-profile/runs/26au3nsn/tensorboard?workspace=user-cfrye59).\n",
        "\n",
        "Read about how to read the traces in these profiles [here](http://wandb.me/trace-report).\n",
        "\n",
        "You'll also find very basic profiling information printed to the `stdout`."
      ],
      "metadata": {
        "id": "CidyYo1ZHzoZ"
      }
    },
    {
      "cell_type": "markdown",
      "source": [
        "> Note that you'll need to provide a W&B auth key for this cell to finish running."
      ],
      "metadata": {
        "id": "sniC8TP1Kg9H"
      }
    },
    {
      "cell_type": "code",
      "source": [
        "!WANDB_PROJECT=test-colab-profile python training/run_experiment.py --wandb --gpus=-1 \\\n",
        "  --data_class=IAMOriginalAndSyntheticParagraphs --model_class=ResnetTransformer --loss=transformer \\\n",
        "  --batch_size=64 --lr=0.0001 \\\n",
        "  --max_epochs=1 --precision 16 --profile --max_steps=16 --limit_test_batches=0"
      ],
      "metadata": {
        "id": "XKVvy2C4LcG4"
      },
      "execution_count": null,
      "outputs": []
    },
    {
      "cell_type": "markdown",
      "source": [
        "### ✨ NEW 2022: Richer Prediction Logging\n",
        "\n"
      ],
      "metadata": {
        "id": "rQAS_wyzJ0lZ"
      }
    },
    {
      "cell_type": "markdown",
      "source": [
        "The prediction logging has been migrated to W&B Tables,\n",
        "which means we now have richer interfaces for interaction\n",
        "with what we've put up.\n",
        "\n",
        "Check some out [here](https://wandb.ai/cfrye59/fsdl-text-recognizer-2021-training/artifacts/run_table/run-1vrnrd8p-trainpredictions/v194/files/train/predictions.table.json) (or run the cell below to view them inside the notebook).\n",
        "\n",
        "View\n",
        "[this report](https://wandb.ai/cfrye59/fsdl-text-recognizer-2021-training/reports/Strings-are-truncated-appropriately-with-new-decode-method---VmlldzoxOTkxMTQ2)\n",
        "for an example of them in use."
      ],
      "metadata": {
        "id": "DUx_cBVuJ_dc"
      }
    },
    {
      "cell_type": "code",
      "source": [
        "from IPython.display import IFrame\n",
        "\n",
        "logged_preds_url = \"https://wandb.ai/cfrye59/fsdl-text-recognizer-2021-training/artifacts/run_table/run-1vrnrd8p-trainpredictions/v194/files/train/predictions.table.json\"\n",
        "\n",
        "IFrame(logged_preds_url, width=1024, height=768)"
      ],
      "metadata": {
        "id": "-xJ6AR0bGwDn"
      },
      "execution_count": null,
      "outputs": []
    },
    {
      "cell_type": "markdown",
      "source": [
        "### ✨ NEW 2022: Overfitting Check"
      ],
      "metadata": {
        "id": "nvzCYLrFLWVB"
      }
    },
    {
      "cell_type": "markdown",
      "source": [
        "We now have a special script for testing whether the model can fit a small dataset -- wrapping `--overfit_batches` in PyTorch Lightning.\n",
        "\n",
        "Specifically, we check whether it reaches a criterion loss value within a certain number of passes over that small dataset.\n",
        "\n",
        "With default arguments, it should complete\n",
        "in under 10 minutes on a commodity GPU (e.g. on Colab) --\n",
        "it runs \"just\" 100 epochs.\n",
        "\n",
        "Fully using the \"overfitting trick\" requires getting the loss down to levels close to what you are targeting in training.\n",
        "That takes 5-10x longer.\n",
        "\n",
        "You can see some of the work done using the overfitting trick in W&B Reports [here](https://wandb.ai/cfrye59/fsdl-text-recognizer-2021-training/reports/Overfit-Check-After-Refactor--VmlldzoyMDY5MjI1) and [here](https://wandb.ai/cfrye59/fsdl-text-recognizer-2021-training/reports/Overfitting-Studies-2022-05--VmlldzoyMDU2OTQ0).\n",
        "\n"
      ],
      "metadata": {
        "id": "R0JdDax5Igyq"
      }
    },
    {
      "cell_type": "code",
      "source": [
        "!WANDB_PROJECT=fsdl-test-overfitting ./training/tests/overfit.sh 10 5"
      ],
      "metadata": {
        "id": "5a8-N8IkozPm"
      },
      "execution_count": null,
      "outputs": []
    },
    {
      "cell_type": "markdown",
      "source": [
        "### \"Serious\" Training"
      ],
      "metadata": {
        "id": "WPSP1hKJB2-l"
      }
    },
    {
      "cell_type": "markdown",
      "source": [
        "Now that we've\n",
        "1. done our \"hello world\" on MNIST,\n",
        "2. profiled our code to look for compute performance issues, and\n",
        "3. debugged our code for optimization performance issues by overfitting,\n",
        "\n",
        "we're ready for some \"serious\" training\n",
        "(but not actually, because it'd take like 24 hours or more on Colab)."
      ],
      "metadata": {
        "id": "-SqpZi8rJLl4"
      }
    },
    {
      "cell_type": "code",
      "source": [
        "train_for_real = False  # flip this switch to run training; but note that it takes a long time\n",
        "\n",
        "if train_for_real:\n",
        "  %run training/run_experiment.py --gpus=-1 --data_class=IAMOriginalAndSyntheticParagraphs --model_class=ResnetTransformer \\\n",
        "  --loss=transformer --batch_size=64 --accumulate_grad_batches 4 --log_every_n_steps=500 --lr=0.0004 \\\n",
        "  --precision 16 --max_epochs=1500 --check_val_every_n_epoch=3 --wandb"
      ],
      "metadata": {
        "id": "DztVq4WLxWQ2"
      },
      "execution_count": null,
      "outputs": []
    },
    {
      "cell_type": "markdown",
      "source": [
        "## Deployment"
      ],
      "metadata": {
        "id": "FXhFI2j4EMec"
      }
    },
    {
      "cell_type": "markdown",
      "source": [
        "Once a model is trained, the next step is to put it in production."
      ],
      "metadata": {
        "id": "hjk_mEVxOpso"
      }
    },
    {
      "cell_type": "markdown",
      "source": [
        "### ✨ NEW 2022: Discrete Model Staging using W&B and TorchScript"
      ],
      "metadata": {
        "id": "YNMJpRZUJPN3"
      }
    },
    {
      "cell_type": "markdown",
      "source": [
        "We've got a new \"two-step\" approach, so that development and production can be cleanly separated (e.g. no Lightning in prod).\n",
        "\n",
        "Specifically, we create a version-controlled artifact for\n",
        "the TorchScript-compiled model.\n",
        "This format of the model is very portable -- it can even be run without Python!\n",
        "\n",
        "We use W&B to store the versions of both the model checkpoint and the Torchscript model.\n",
        "\n",
        "From scratch, we'd pull a model checkpoint (as output by Lightning) down from W&B, jit script it with Torch, and then upload\n",
        "the TorschSrupt model.\n",
        "\n",
        "This workflow is encapsulated in the `training/stage_model.py` script.\n",
        "\n",
        "But since this process has already been done\n",
        "for a workable text recognizer,\n",
        "here we will just `--fetch` the TorchScript model\n",
        "to put it on the local disk."
      ],
      "metadata": {
        "id": "vmYwdw7FO8Pk"
      }
    },
    {
      "cell_type": "code",
      "source": [
        "%run training/stage_model.py --fetch \\\n",
        "  --entity \"cfrye59\" --from_project \"fsdl-text-recognizer-2021-training\"\n",
        "# see --help docs for more"
      ],
      "metadata": {
        "id": "RP1jn50szrhS"
      },
      "execution_count": null,
      "outputs": []
    },
    {
      "cell_type": "markdown",
      "source": [
        "### ✨ NEW 2022: Gradio Frontend"
      ],
      "metadata": {
        "id": "UIym4tsHHbYD"
      }
    },
    {
      "cell_type": "markdown",
      "source": [
        "Our model now has a frontend based on Gradio.\n",
        "That frontend includes user feedback."
      ],
      "metadata": {
        "id": "wTzLQEcdI60h"
      }
    },
    {
      "cell_type": "markdown",
      "source": [
        "Using `gradio` on Colab after requires a restart for now, due to conflict over Jinja versions --\n",
        "this is an issue we want to resolve."
      ],
      "metadata": {
        "id": "RBbFpysuJNqb"
      }
    },
    {
      "cell_type": "markdown",
      "source": [
        "The code below runs the model we just fetched locally\n",
        "inside the same Python process as the Gradio frontend."
      ],
      "metadata": {
        "id": "PYiVZ5ECJ4WD"
      }
    },
    {
      "cell_type": "code",
      "source": [
        "from app_gradio.app import PredictorBackend, make_frontend\n",
        "\n",
        "predict = PredictorBackend(url=None).run  # run model \"backend\" in the same process\n",
        "frontend = make_frontend(predict)\n",
        "\n",
        "frontend.launch(share=True)"
      ],
      "metadata": {
        "id": "J_PF1MT0HnEO"
      },
      "execution_count": null,
      "outputs": []
    },
    {
      "cell_type": "markdown",
      "source": [
        "### ✨ NEW 2022: Public AWS Lambda URL"
      ],
      "metadata": {
        "id": "EB2xQ9n_HR3D"
      }
    },
    {
      "cell_type": "markdown",
      "source": [
        "The above architecture is not great,\n",
        "because it couples frontend and backend directly.\n",
        "\n",
        "So we instead use the serverless api from 2021,\n",
        "with an enhancement: AWS Lambdas now come with a URL that serves\n",
        "as an HTTP endpoint,\n",
        "instead of only being accessible via AWS's internal system of URIs."
      ],
      "metadata": {
        "id": "Z3kbnK_MKBEO"
      }
    },
    {
      "cell_type": "markdown",
      "source": [
        "Setting one up requires AWS CLI/UI interaction,\n",
        "so we'll instead just quickly ping an existing Lambda as a proof-of-principle."
      ],
      "metadata": {
        "id": "n6a4NuaGHuEV"
      }
    },
    {
      "cell_type": "code",
      "source": [
        "import json\n",
        "\n",
        "from IPython.display import Image\n",
        "import requests\n",
        "\n",
        "lambda_url = \"https://3akxma777p53w57mmdika3sflu0fvazm.lambda-url.us-west-1.on.aws/\"\n",
        "image_url = \"https://fsdl-public-assets.s3-us-west-2.amazonaws.com/paragraphs/a01-077.png\"\n",
        "\n",
        "headers = {\"Content-type\": \"application/json\"}\n",
        "payload = json.dumps({\"image_url\": image_url})\n",
        "\n",
        "if \"pred\" not in locals():\n",
        "  response = requests.post(lambda_url, data=payload, headers=headers)\n",
        "  pred = response.json()[\"pred\"]\n",
        "\n",
        "print(pred)\n",
        "\n",
        "Image(url=image_url, width=512)"
      ],
      "metadata": {
        "id": "O62cRdIf5eXw"
      },
      "execution_count": null,
      "outputs": []
    }
  ]
}