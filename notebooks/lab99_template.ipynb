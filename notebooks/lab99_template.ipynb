{
  "nbformat": 4,
  "nbformat_minor": 0,
  "metadata": {
    "colab": {
      "name": "lab99_template.ipynb",
      "private_outputs": true,
      "provenance": [],
      "collapsed_sections": [],
      "toc_visible": true,
      "authorship_tag": "ABX9TyMKpeodqRUzgu0VjkCVMBeJ"
    },
    "kernelspec": {
      "name": "python3",
      "display_name": "Python 3"
    },
    "language_info": {
      "name": "python"
    },
    "accelerator": "GPU",
    "gpuClass": "standard"
  },
  "cells": [
    {
      "cell_type": "markdown",
      "source": [
        "<img src=\"https://fsdl.me/logo-720-dark-horizontal\">"
      ],
      "metadata": {
        "id": "FlH0lCOttCs5"
      }
    },
    {
      "cell_type": "markdown",
      "source": [
        "# Lab 99: Template"
      ],
      "metadata": {
        "id": "ZUPRHaeetRnT"
      }
    },
    {
      "cell_type": "markdown",
      "source": [
        "### What You Will Learn\n",
        "\n",
        "- How the labs are formatted\n",
        "- A noun phrase that describes a learning goal\n",
        "- Another noun phrase that describes another learning goal"
      ],
      "metadata": {
        "id": "bry3Hr-PcgDs"
      }
    },
    {
      "cell_type": "markdown",
      "metadata": {
        "id": "vs0LXXlCU6Ix"
      },
      "source": [
        "# Setup"
      ]
    },
    {
      "cell_type": "markdown",
      "metadata": {
        "id": "ZkQiK7lkgeXm"
      },
      "source": [
        "If you're running this notebook on Google Colab,\n",
        "the cell below will run full environment setup.\n",
        "\n",
        "It should take about three minutes to run."
      ]
    },
    {
      "cell_type": "code",
      "execution_count": null,
      "metadata": {
        "id": "sVx7C7H0PIZC"
      },
      "outputs": [],
      "source": [
        "lab_idx = 1  # CHANGE ME WHEN YOU COPY THE TEMPLATE OVER\n",
        "\n",
        "if \"bootstrap\" not in locals() or bootstrap.run:\n",
        "    # path management for Python\n",
        "    pythonpath, = !echo $PYTHONPATH\n",
        "    if \".\" not in pythonpath.split(\":\"):\n",
        "        pythonpath = \".:\" + pythonpath\n",
        "        %env PYTHONPATH={pythonpath}\n",
        "        !echo $PYTHONPATH\n",
        "\n",
        "    # get both Colab and local notebooks into the same state\n",
        "    !wget --quiet https://fsdl.me/gist-bootstrap -O bootstrap.py\n",
        "    import bootstrap\n",
        "\n",
        "    # change into the lab directory\n",
        "    bootstrap.change_to_lab_dir(lab_idx=lab_idx)\n",
        "\n",
        "    # allow \"hot-reloading\" of modules\n",
        "    %load_ext autoreload\n",
        "    %autoreload 2\n",
	"    # needed for inline plots in some contexts\n",
	"    %matplotlib inline\n",
        "\n",
        "    bootstrap.run = False  # change to True re-run setup\n",
        "    \n",
        "!pwd\n",
        "%ls"
      ]
    },
    {
      "cell_type": "markdown",
      "source": [
        "# Main heading"
      ],
      "metadata": {
        "id": "zPoFCoEcC8SV"
      }
    },
    {
      "cell_type": "code",
      "source": [
        "print(\"hello world!\")"
      ],
      "metadata": {
        "id": "UUuj5n1NDBtw"
      },
      "execution_count": null,
      "outputs": []
    },
    {
      "cell_type": "markdown",
      "source": [
        "## A sub-heading"
      ],
      "metadata": {
        "id": "yFRqN8W-C9Ny"
      }
    },
    {
      "cell_type": "markdown",
      "source": [
        "Some expository text."
      ],
      "metadata": {
        "id": "IMSdnZDpDJqH"
      }
    },
    {
      "cell_type": "markdown",
      "source": [
        "# Exercises"
      ],
      "metadata": {
        "id": "RFx-OhF837Bp"
      }
    },
    {
      "cell_type": "markdown",
      "source": [
        "At the end, a few basic exercises to develop understanding."
      ],
      "metadata": {
        "id": "RGEPse68DNpm"
      }
    },
    {
      "cell_type": "markdown",
      "source": [
        "### 🌟 Print all the consonants in the alphabet.\n",
        "\n",
        "An exercise with a single 🌟 is straightforward\n",
        "and requires writing very minimal code\n",
        "that closely matches existing examples.\n",
        "\n",
        "It should only serve to reinforce existing ideas\n",
        "or to encourage playing around with code."
      ],
      "metadata": {
        "id": "yq6-S6TC38AY"
      }
    },
    {
      "cell_type": "code",
      "source": [
        "# provide starter code with pointer comments\n",
        "\n",
        "import string\n",
        "\n",
        "alphabet = string.ascii_lowercase  # use this and apply a filter like the one we used to print vowels\n",
        "print(alphabet)"
      ],
      "metadata": {
        "id": "kYK2qXEmAWjq"
      },
      "execution_count": null,
      "outputs": []
    },
    {
      "cell_type": "markdown",
      "source": [
        "### 🌟🌟 Implement matrix-vector multiplication using Python lists.\n",
        "\n",
        "An exercise with two 🌟🌟 is moderately challenging.\n",
        "It requires writing more code that's more complex\n",
        "or extending ideas from the class."
      ],
      "metadata": {
        "id": "5D39w0gXAiha"
      }
    },
    {
      "cell_type": "code",
      "source": [
        "from typing import List  # minimal type annotations can help!\n",
        "\n",
        "def matrix_vector_mult(matrix: List[List[float]], vector: List[float]) -> List[float]:\n",
        "    return\n",
        "\n",
        "matrix_vector_mult([[0, 1], [1, 0]], [1, 2])  # provide basic testing code, but never crash!"
      ],
      "metadata": {
        "id": "aYiRvU4HA84t"
      },
      "execution_count": null,
      "outputs": []
    },
    {
      "cell_type": "markdown",
      "source": [
        "### 🌟🌟🌟 Implement a ResNet."
      ],
      "metadata": {
        "id": "_DO67zzjA31P"
      }
    },
    {
      "cell_type": "markdown",
      "source": [
        "An exercise with 🌟🌟🌟 should require substantial independent coding."
      ],
      "metadata": {
        "id": "LmoIA-4SA5A_"
      }
    },
    {
      "cell_type": "code",
      "source": [
        "import torch\n",
        "\n",
        "\n",
        "class ResNet(torch.nn.Module):  # see https://arxiv.org/abs/1512.03385\n",
        "\n",
        "    def __init__(self):\n",
        "        pass\n",
        "\n",
        "    def forward(self):\n",
        "        pass"
      ],
      "metadata": {
        "id": "LQrnIJfgCDlb"
      },
      "execution_count": null,
      "outputs": []
    }
  ]
}
