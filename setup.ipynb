{
 "cells": [
  {
   "cell_type": "markdown",
   "metadata": {},
   "source": [
    "# In case setup through terminal doesn't work"
   ]
  },
  {
   "cell_type": "code",
   "execution_count": null,
   "metadata": {},
   "outputs": [],
   "source": [
    "%cd ~/Desktop/Projects/admirer/ #Or wherever you cloned repo to\n",
    "!make pip-tools"
   ]
  }
 ],
 "metadata": {
  "kernelspec": {
   "display_name": "Python 3.7.13 ('fsdl-text-recognizer-2022')",
   "language": "python",
   "name": "python3"
  },
  "language_info": {
   "name": "python",
   "version": "3.7.13"
  },
  "orig_nbformat": 4,
  "vscode": {
   "interpreter": {
    "hash": "a3a23e699588eb0a26a03a6b2552eb60a5612b7064ebc05f00ae912794702524"
   }
  }
 },
 "nbformat": 4,
 "nbformat_minor": 2
}
