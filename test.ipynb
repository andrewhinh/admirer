{
 "cells": [
  {
   "cell_type": "markdown",
   "metadata": {},
   "source": [
    "# Setup"
   ]
  },
  {
   "cell_type": "code",
   "execution_count": null,
   "metadata": {},
   "outputs": [],
   "source": [
    "import getpass\n",
    "import IPython.display\n",
    "import json\n",
    "import os\n",
    "import requests\n",
    "import pandas as pd \n",
    "import tarfile\n",
    "from pyngrok import ngrok\n",
    "\n",
    "from app_gradio import app\n",
    "from question_answer.answer import Pipeline"
   ]
  },
  {
   "cell_type": "code",
   "execution_count": null,
   "metadata": {},
   "outputs": [],
   "source": [
    "!python3 training/wab.py --fetch"
   ]
  },
  {
   "cell_type": "markdown",
   "metadata": {},
   "source": [
    "# Serve and Deploy\n",
    "- Local/Local \n",
    "- Cloud Server/Cloud Server"
   ]
  },
  {
   "cell_type": "code",
   "execution_count": null,
   "metadata": {},
   "outputs": [],
   "source": [
    "qa = Pipeline()"
   ]
  },
  {
   "cell_type": "code",
   "execution_count": null,
   "metadata": {},
   "outputs": [],
   "source": [
    "example_img = \"question_answer/tests/support/images/img.jpg\"\n",
    "example_question = \"question_answer/tests/support/questions/question.txt\"\n",
    "\n",
    "print(qa.predict(example_img, example_question))"
   ]
  },
  {
   "cell_type": "code",
   "execution_count": null,
   "metadata": {},
   "outputs": [],
   "source": [
    "frontend = app.make_frontend(qa.predict, flagging=True)"
   ]
  },
  {
   "cell_type": "code",
   "execution_count": null,
   "metadata": {},
   "outputs": [],
   "source": [
    "frontend.launch(share=True, width=\"100%\")"
   ]
  },
  {
   "cell_type": "code",
   "execution_count": null,
   "metadata": {},
   "outputs": [],
   "source": [
    "%env API_URL={frontend.share_url + \"/api\"}"
   ]
  },
  {
   "cell_type": "code",
   "execution_count": null,
   "metadata": {},
   "outputs": [],
   "source": [
    "response, = ! \\\n",
    "  (echo -n '{ \"data\": [\"data:image/jpg;base64,'$(base64 -w0 -i question_answer/tests/support/images/img.jpg)'\", \"data:question/str;str,'$(cat question_answer/tests/support/questions/question.txt)'\"] }') \\\n",
    "  | curl -s -X POST \"${API_URL}/predict\" -H 'Content-Type: application/json' -d @-\n",
    "  \n",
    "response"
   ]
  },
  {
   "cell_type": "code",
   "execution_count": null,
   "metadata": {},
   "outputs": [],
   "source": [
    "print(json.loads(response)[\"data\"][0])"
   ]
  },
  {
   "cell_type": "code",
   "execution_count": null,
   "metadata": {},
   "outputs": [],
   "source": [
    "frontend.close()"
   ]
  },
  {
   "cell_type": "markdown",
   "metadata": {},
   "source": [
    "# Serverless Backend (AWS Lambda)"
   ]
  },
  {
   "cell_type": "markdown",
   "metadata": {},
   "source": [
    "## Build container image"
   ]
  },
  {
   "cell_type": "code",
   "execution_count": null,
   "metadata": {},
   "outputs": [],
   "source": [
    "os.environ[\"LAMBDA_NAME\"] = \"admirer-backend\""
   ]
  },
  {
   "cell_type": "code",
   "execution_count": null,
   "metadata": {},
   "outputs": [],
   "source": [
    "!docker build -t $LAMBDA_NAME . --file api_serverless/Dockerfile #--no-cache"
   ]
  },
  {
   "cell_type": "code",
   "execution_count": null,
   "metadata": {},
   "outputs": [],
   "source": [
    "# export LAMBDA_NAME=admirer-backend\n",
    "# docker run -p 9000:8080 $LAMBDA_NAME\\:latest"
   ]
  },
  {
   "cell_type": "code",
   "execution_count": null,
   "metadata": {},
   "outputs": [],
   "source": [
    "!curl -XPOST \\\n",
    "  \"http://localhost:9000/2015-03-31/functions/function/invocations\" \\\n",
    "  -d '{\"image_url\": \"question_answer/tests/support/images/img.jpg\", \"question\": \"What color is my hair\"}'"
   ]
  },
  {
   "cell_type": "markdown",
   "metadata": {},
   "source": [
    "## Upload to the container registry"
   ]
  },
  {
   "cell_type": "code",
   "execution_count": null,
   "metadata": {},
   "outputs": [],
   "source": [
    "# aws configure"
   ]
  },
  {
   "cell_type": "code",
   "execution_count": null,
   "metadata": {},
   "outputs": [],
   "source": [
    "aws_account_id, = !aws sts get-caller-identity \\\n",
    "  --query \"Account\"\n",
    "aws_region, = !aws configure get region \n",
    "\n",
    "os.environ[\"AWS_REGION\"] = aws_region\n",
    "os.environ[\"AWS_ACCOUNT_ID\"] = aws_account_id.strip('\"')\n",
    "\n",
    "!echo $AWS_ACCOUNT_ID\n",
    "!echo $AWS_REGION"
   ]
  },
  {
   "cell_type": "code",
   "execution_count": null,
   "metadata": {},
   "outputs": [],
   "source": [
    "os.environ[\"ECR_URI\"] = \".\".join(\n",
    "    [os.environ[\"AWS_ACCOUNT_ID\"], \"dkr\", \"ecr\", os.environ[\"AWS_REGION\"], \"amazonaws.com\"])\n",
    "\n",
    "!echo $ECR_URI"
   ]
  },
  {
   "cell_type": "code",
   "execution_count": null,
   "metadata": {},
   "outputs": [],
   "source": [
    "!aws ecr get-login-password --region $AWS_REGION \\\n",
    "  | docker login --username AWS --password-stdin $ECR_URI"
   ]
  },
  {
   "cell_type": "code",
   "execution_count": null,
   "metadata": {},
   "outputs": [],
   "source": [
    "!aws ecr create-repository \\\n",
    "  --repository-name $LAMBDA_NAME \\\n",
    "  --image-scanning-configuration scanOnPush=true --image-tag-mutability MUTABLE \\\n",
    "  | jq -C"
   ]
  },
  {
   "cell_type": "code",
   "execution_count": null,
   "metadata": {},
   "outputs": [],
   "source": [
    "os.environ[\"IMAGE_URI\"] = \"/\".join([os.environ[\"ECR_URI\"], os.environ[\"LAMBDA_NAME\"]])"
   ]
  },
  {
   "cell_type": "code",
   "execution_count": null,
   "metadata": {},
   "outputs": [],
   "source": [
    "!docker tag $LAMBDA_NAME\\:latest $IMAGE_URI\\:latest"
   ]
  },
  {
   "cell_type": "code",
   "execution_count": null,
   "metadata": {},
   "outputs": [],
   "source": [
    "!docker push $IMAGE_URI\\:latest"
   ]
  },
  {
   "cell_type": "markdown",
   "metadata": {},
   "source": [
    "## Create a Lambda function"
   ]
  },
  {
   "cell_type": "code",
   "execution_count": null,
   "metadata": {},
   "outputs": [],
   "source": [
    "os.environ[\"LAMBDA_ROLE_NAME\"] = \"lambda-role\""
   ]
  },
  {
   "cell_type": "code",
   "execution_count": null,
   "metadata": {},
   "outputs": [],
   "source": [
    "!aws iam create-role \\\n",
    "  --role-name $LAMBDA_ROLE_NAME \\\n",
    "  --assume-role-policy-document '{\"Version\": \"2012-10-17\", \"Statement\": [{\"Effect\": \"Allow\", \"Principal\": {\"Service\": \"lambda.amazonaws.com\"}, \"Action\": \"sts:AssumeRole\"}]}' \\\n",
    "  | jq -C"
   ]
  },
  {
   "cell_type": "code",
   "execution_count": null,
   "metadata": {},
   "outputs": [],
   "source": [
    "lambda_role_arn, = !aws iam get-role --role-name $LAMBDA_ROLE_NAME --output json | jq -r '.Role.Arn'\n",
    "lambda_role_arn = lambda_role_arn.strip('\"')\n",
    "\n",
    "os.environ[\"LAMBDA_ROLE_ARN\"] = lambda_role_arn\n",
    "!echo $LAMBDA_ROLE_ARN"
   ]
  },
  {
   "cell_type": "code",
   "execution_count": null,
   "metadata": {},
   "outputs": [],
   "source": [
    "# allow this IAM role to execute Lambdas\n",
    "!aws iam attach-role-policy \\\n",
    "  --role-name $LAMBDA_ROLE_NAME \\\n",
    "  --policy-arn arn:aws:iam::aws:policy/service-role/AWSLambdaBasicExecutionRole"
   ]
  },
  {
   "cell_type": "code",
   "execution_count": null,
   "metadata": {},
   "outputs": [],
   "source": [
    "# allow this IAM role to write to logs -- required and also important for debugging Lambdas\n",
    "!aws iam attach-role-policy \\\n",
    "  --role-name $LAMBDA_ROLE_NAME \\\n",
    "  --policy-arn arn:aws:iam::aws:policy/AWSXRayDaemonWriteAccess"
   ]
  },
  {
   "cell_type": "code",
   "execution_count": null,
   "metadata": {},
   "outputs": [],
   "source": [
    "!aws lambda create-function \\\n",
    "  --function-name $LAMBDA_NAME \\\n",
    "  --region $AWS_REGION \\\n",
    "  --package-type Image \\\n",
    "  --code ImageUri=$IMAGE_URI:latest \\\n",
    "  --role $LAMBDA_ROLE_ARN | jq -C"
   ]
  },
  {
   "cell_type": "code",
   "execution_count": null,
   "metadata": {},
   "outputs": [],
   "source": [
    "!aws lambda update-function-configuration \\\n",
    "   --function-name $LAMBDA_NAME \\\n",
    "   --region $AWS_REGION \\\n",
    "   --timeout 60 \\\n",
    "   --memory-size 10240 | jq -C"
   ]
  },
  {
   "cell_type": "code",
   "execution_count": null,
   "metadata": {},
   "outputs": [],
   "source": [
    "!aws lambda invoke \\\n",
    "  --function-name $LAMBDA_NAME \\\n",
    "  --invocation-type RequestResponse \\\n",
    "  --payload '{\"image_url\": \"question_answer/tests/support/images/img.jpg\", \"question\": \"What color is my hair\"}' \\\n",
    "  --cli-binary-format raw-in-base64-out lambda.out | jq -C\n",
    "\n",
    "!cat lambda.out"
   ]
  },
  {
   "cell_type": "markdown",
   "metadata": {},
   "source": [
    "## Add an HTTP endpoint with a URL"
   ]
  },
  {
   "cell_type": "code",
   "execution_count": null,
   "metadata": {},
   "outputs": [],
   "source": [
    "!aws lambda create-function-url-config \\\n",
    "  --function-name $LAMBDA_NAME \\\n",
    "  --auth-type NONE \\\n",
    "  --cors '{\"AllowOrigins\": [\"*\"], \"AllowCredentials\": false}' \\\n",
    "  | jq -C"
   ]
  },
  {
   "cell_type": "code",
   "execution_count": null,
   "metadata": {},
   "outputs": [],
   "source": [
    "# Careful here!!!\n",
    "# \"\"\"\n",
    "!aws lambda add-permission \\\n",
    " --function-name $LAMBDA_NAME \\\n",
    " --action lambda:invokeFunctionUrl \\\n",
    " --statement-id \"open-access\" \\\n",
    " --principal \"*\" \\\n",
    " --function-url-auth-type NONE | jq -C\n",
    "# \"\"\""
   ]
  },
  {
   "cell_type": "code",
   "execution_count": null,
   "metadata": {},
   "outputs": [],
   "source": [
    "lambda_url, = !aws lambda get-function-url-config --function-name $LAMBDA_NAME | jq .FunctionUrl\n",
    "lambda_url = lambda_url.strip('\"')\n",
    "\n",
    "lambda_url"
   ]
  },
  {
   "cell_type": "code",
   "execution_count": null,
   "metadata": {},
   "outputs": [],
   "source": [
    "image_url = \"question_answer/tests/support/images/img.jpg\"\n",
    "question = \"What color is my hair\"\n",
    "\n",
    "headers = {\"Content-type\": \"application/json\"}\n",
    "payload = json.dumps({\"image_url\": image_url, \"question\": question})\n",
    "\n",
    "response = requests.post(\n",
    "  lambda_url, data=payload, headers=headers)\n",
    "pred = response.json()[\"pred\"]\n",
    "\n",
    "print(pred)"
   ]
  },
  {
   "cell_type": "markdown",
   "metadata": {},
   "source": [
    "## Connect AWS with Gradio"
   ]
  },
  {
   "cell_type": "code",
   "execution_count": null,
   "metadata": {},
   "outputs": [],
   "source": [
    "serverless_backend = app.PredictorBackend(url=lambda_url)"
   ]
  },
  {
   "cell_type": "code",
   "execution_count": null,
   "metadata": {},
   "outputs": [],
   "source": [
    "frontend_serverless_backend = app.make_frontend(serverless_backend.run, flagging=True)\n",
    "frontend_serverless_backend.launch(share=True)"
   ]
  },
  {
   "cell_type": "code",
   "execution_count": null,
   "metadata": {},
   "outputs": [],
   "source": [
    "frontend_serverless_backend.close()"
   ]
  },
  {
   "cell_type": "markdown",
   "metadata": {},
   "source": [
    "# Serving through Ngrok"
   ]
  },
  {
   "cell_type": "code",
   "execution_count": null,
   "metadata": {},
   "outputs": [],
   "source": [
    "frontend = frontend #frontend_serverless_backend\n",
    "frontend.local_url"
   ]
  },
  {
   "cell_type": "code",
   "execution_count": null,
   "metadata": {},
   "outputs": [],
   "source": [
    "!curl -X POST {frontend.local_url}api/predict"
   ]
  },
  {
   "cell_type": "code",
   "execution_count": null,
   "metadata": {},
   "outputs": [],
   "source": [
    "config_file = ngrok.conf.DEFAULT_NGROK_CONFIG_PATH\n",
    "config_file_exists =  os.path.exists(config_file)\n",
    "config_file_contents = !cat {config_file}\n",
    "\n",
    "auth_token_found = config_file_exists \\\n",
    "    and config_file_contents \\\n",
    "    and \"authtoken\" in config_file_contents[0] \\\n",
    "    and \": exit\" not in config_file_contents  # state if interrupted\n",
    "\n",
    "if not auth_token_found:\n",
    "    print(\"Enter your ngrok auth token, which can be copied from https://dashboard.ngrok.com/auth\")\n",
    "    !ngrok authtoken {getpass.getpass()}"
   ]
  },
  {
   "cell_type": "code",
   "execution_count": null,
   "metadata": {},
   "outputs": [],
   "source": [
    "ADMIRER_PORT = frontend.server_port\n",
    "ADMIRER_PORT"
   ]
  },
  {
   "cell_type": "code",
   "execution_count": null,
   "metadata": {},
   "outputs": [],
   "source": [
    "# https_tunnel = ngrok.connect(ADMIRER_PORT, bind_tls=True)\n",
    "# print(https_tunnel)"
   ]
  },
  {
   "cell_type": "markdown",
   "metadata": {},
   "source": [
    "# Load Testing with Locust"
   ]
  },
  {
   "cell_type": "markdown",
   "metadata": {},
   "source": [
    "## Running the load test"
   ]
  },
  {
   "cell_type": "code",
   "execution_count": null,
   "metadata": {},
   "outputs": [],
   "source": [
    "!locust --locustfile=locust_http_user.py \\\n",
    "  --headless \\\n",
    "  --users=10 \\\n",
    "  --spawn-rate=1 \\\n",
    "  --run-time=2m \\\n",
    "  --host=https://joiajq6syp65ueonto4mswttzu0apfbi.lambda-url.us-west-1.on.aws \\\n",
    "  --html=locust_report.html \\\n",
    "  --csv=locust_report"
   ]
  },
  {
   "cell_type": "markdown",
   "metadata": {},
   "source": [
    "## Viewing the results"
   ]
  },
  {
   "cell_type": "code",
   "execution_count": null,
   "metadata": {},
   "outputs": [],
   "source": [
    "!ls -lh locust_report*"
   ]
  },
  {
   "cell_type": "code",
   "execution_count": null,
   "metadata": {},
   "outputs": [],
   "source": [
    "IPython.display.HTML(\"locust_report.html\")"
   ]
  },
  {
   "cell_type": "markdown",
   "metadata": {},
   "source": [
    "## Analyzing load test data programmatically"
   ]
  },
  {
   "cell_type": "code",
   "execution_count": 4,
   "metadata": {},
   "outputs": [
    {
     "data": {
      "text/html": [
       "<div>\n",
       "<style scoped>\n",
       "    .dataframe tbody tr th:only-of-type {\n",
       "        vertical-align: middle;\n",
       "    }\n",
       "\n",
       "    .dataframe tbody tr th {\n",
       "        vertical-align: top;\n",
       "    }\n",
       "\n",
       "    .dataframe thead th {\n",
       "        text-align: right;\n",
       "    }\n",
       "</style>\n",
       "<table border=\"1\" class=\"dataframe\">\n",
       "  <thead>\n",
       "    <tr style=\"text-align: right;\">\n",
       "      <th></th>\n",
       "      <th>Timestamp</th>\n",
       "      <th>User Count</th>\n",
       "      <th>Type</th>\n",
       "      <th>Name</th>\n",
       "      <th>Requests/s</th>\n",
       "      <th>Failures/s</th>\n",
       "      <th>50%</th>\n",
       "      <th>66%</th>\n",
       "      <th>75%</th>\n",
       "      <th>80%</th>\n",
       "      <th>...</th>\n",
       "      <th>99.9%</th>\n",
       "      <th>99.99%</th>\n",
       "      <th>100%</th>\n",
       "      <th>Total Request Count</th>\n",
       "      <th>Total Failure Count</th>\n",
       "      <th>Total Median Response Time</th>\n",
       "      <th>Total Average Response Time</th>\n",
       "      <th>Total Min Response Time</th>\n",
       "      <th>Total Max Response Time</th>\n",
       "      <th>Total Average Content Size</th>\n",
       "    </tr>\n",
       "  </thead>\n",
       "  <tbody>\n",
       "    <tr>\n",
       "      <th>106</th>\n",
       "      <td>2022-10-20 03:30:54</td>\n",
       "      <td>10</td>\n",
       "      <td>NaN</td>\n",
       "      <td>Aggregated</td>\n",
       "      <td>0.7</td>\n",
       "      <td>0.0</td>\n",
       "      <td>13000.0</td>\n",
       "      <td>13000.0</td>\n",
       "      <td>14000.0</td>\n",
       "      <td>17000.0</td>\n",
       "      <td>...</td>\n",
       "      <td>44000.0</td>\n",
       "      <td>44000.0</td>\n",
       "      <td>44000.0</td>\n",
       "      <td>52</td>\n",
       "      <td>0</td>\n",
       "      <td>13000.0</td>\n",
       "      <td>17902.302880</td>\n",
       "      <td>10327.992856</td>\n",
       "      <td>43529.908691</td>\n",
       "      <td>16.0</td>\n",
       "    </tr>\n",
       "    <tr>\n",
       "      <th>107</th>\n",
       "      <td>2022-10-20 03:30:55</td>\n",
       "      <td>10</td>\n",
       "      <td>NaN</td>\n",
       "      <td>Aggregated</td>\n",
       "      <td>0.7</td>\n",
       "      <td>0.0</td>\n",
       "      <td>13000.0</td>\n",
       "      <td>13000.0</td>\n",
       "      <td>14000.0</td>\n",
       "      <td>17000.0</td>\n",
       "      <td>...</td>\n",
       "      <td>44000.0</td>\n",
       "      <td>44000.0</td>\n",
       "      <td>44000.0</td>\n",
       "      <td>52</td>\n",
       "      <td>0</td>\n",
       "      <td>13000.0</td>\n",
       "      <td>17902.302880</td>\n",
       "      <td>10327.992856</td>\n",
       "      <td>43529.908691</td>\n",
       "      <td>16.0</td>\n",
       "    </tr>\n",
       "    <tr>\n",
       "      <th>108</th>\n",
       "      <td>2022-10-20 03:30:56</td>\n",
       "      <td>10</td>\n",
       "      <td>NaN</td>\n",
       "      <td>Aggregated</td>\n",
       "      <td>0.7</td>\n",
       "      <td>0.0</td>\n",
       "      <td>13000.0</td>\n",
       "      <td>13000.0</td>\n",
       "      <td>14000.0</td>\n",
       "      <td>17000.0</td>\n",
       "      <td>...</td>\n",
       "      <td>44000.0</td>\n",
       "      <td>44000.0</td>\n",
       "      <td>44000.0</td>\n",
       "      <td>52</td>\n",
       "      <td>0</td>\n",
       "      <td>13000.0</td>\n",
       "      <td>17902.302880</td>\n",
       "      <td>10327.992856</td>\n",
       "      <td>43529.908691</td>\n",
       "      <td>16.0</td>\n",
       "    </tr>\n",
       "    <tr>\n",
       "      <th>109</th>\n",
       "      <td>2022-10-20 03:30:57</td>\n",
       "      <td>10</td>\n",
       "      <td>NaN</td>\n",
       "      <td>Aggregated</td>\n",
       "      <td>1.0</td>\n",
       "      <td>0.0</td>\n",
       "      <td>13000.0</td>\n",
       "      <td>13000.0</td>\n",
       "      <td>13000.0</td>\n",
       "      <td>17000.0</td>\n",
       "      <td>...</td>\n",
       "      <td>44000.0</td>\n",
       "      <td>44000.0</td>\n",
       "      <td>44000.0</td>\n",
       "      <td>53</td>\n",
       "      <td>0</td>\n",
       "      <td>13000.0</td>\n",
       "      <td>17774.222529</td>\n",
       "      <td>10327.992856</td>\n",
       "      <td>43529.908691</td>\n",
       "      <td>16.0</td>\n",
       "    </tr>\n",
       "    <tr>\n",
       "      <th>110</th>\n",
       "      <td>2022-10-20 03:30:58</td>\n",
       "      <td>10</td>\n",
       "      <td>NaN</td>\n",
       "      <td>Aggregated</td>\n",
       "      <td>0.9</td>\n",
       "      <td>0.0</td>\n",
       "      <td>13000.0</td>\n",
       "      <td>13000.0</td>\n",
       "      <td>13000.0</td>\n",
       "      <td>17000.0</td>\n",
       "      <td>...</td>\n",
       "      <td>44000.0</td>\n",
       "      <td>44000.0</td>\n",
       "      <td>44000.0</td>\n",
       "      <td>54</td>\n",
       "      <td>0</td>\n",
       "      <td>13000.0</td>\n",
       "      <td>17639.795922</td>\n",
       "      <td>10327.992856</td>\n",
       "      <td>43529.908691</td>\n",
       "      <td>16.0</td>\n",
       "    </tr>\n",
       "  </tbody>\n",
       "</table>\n",
       "<p>5 rows × 24 columns</p>\n",
       "</div>"
      ],
      "text/plain": [
       "              Timestamp  User Count  Type        Name  Requests/s  Failures/s  \\\n",
       "106 2022-10-20 03:30:54          10   NaN  Aggregated         0.7         0.0   \n",
       "107 2022-10-20 03:30:55          10   NaN  Aggregated         0.7         0.0   \n",
       "108 2022-10-20 03:30:56          10   NaN  Aggregated         0.7         0.0   \n",
       "109 2022-10-20 03:30:57          10   NaN  Aggregated         1.0         0.0   \n",
       "110 2022-10-20 03:30:58          10   NaN  Aggregated         0.9         0.0   \n",
       "\n",
       "         50%      66%      75%      80%  ...    99.9%   99.99%     100%  \\\n",
       "106  13000.0  13000.0  14000.0  17000.0  ...  44000.0  44000.0  44000.0   \n",
       "107  13000.0  13000.0  14000.0  17000.0  ...  44000.0  44000.0  44000.0   \n",
       "108  13000.0  13000.0  14000.0  17000.0  ...  44000.0  44000.0  44000.0   \n",
       "109  13000.0  13000.0  13000.0  17000.0  ...  44000.0  44000.0  44000.0   \n",
       "110  13000.0  13000.0  13000.0  17000.0  ...  44000.0  44000.0  44000.0   \n",
       "\n",
       "     Total Request Count  Total Failure Count  Total Median Response Time  \\\n",
       "106                   52                    0                     13000.0   \n",
       "107                   52                    0                     13000.0   \n",
       "108                   52                    0                     13000.0   \n",
       "109                   53                    0                     13000.0   \n",
       "110                   54                    0                     13000.0   \n",
       "\n",
       "     Total Average Response Time  Total Min Response Time  \\\n",
       "106                 17902.302880             10327.992856   \n",
       "107                 17902.302880             10327.992856   \n",
       "108                 17902.302880             10327.992856   \n",
       "109                 17774.222529             10327.992856   \n",
       "110                 17639.795922             10327.992856   \n",
       "\n",
       "     Total Max Response Time  Total Average Content Size  \n",
       "106             43529.908691                        16.0  \n",
       "107             43529.908691                        16.0  \n",
       "108             43529.908691                        16.0  \n",
       "109             43529.908691                        16.0  \n",
       "110             43529.908691                        16.0  \n",
       "\n",
       "[5 rows x 24 columns]"
      ]
     },
     "execution_count": 4,
     "metadata": {},
     "output_type": "execute_result"
    }
   ],
   "source": [
    "csv_path = \"locust_report_stats_history.csv\"\n",
    "results = pd.read_csv(csv_path)\n",
    "results[\"Timestamp\"] = pd.to_datetime(results[\"Timestamp\"], unit=\"s\")\n",
    "results.tail()"
   ]
  },
  {
   "cell_type": "code",
   "execution_count": 5,
   "metadata": {},
   "outputs": [],
   "source": [
    "request_columns = [\"Total Request Count\", \"Total Failure Count\", \"User Count\"]\n",
    "results.plot(x=\"Timestamp\", y=request_columns, subplots=True, sharey=True);"
   ]
  },
  {
   "cell_type": "code",
   "execution_count": 6,
   "metadata": {},
   "outputs": [],
   "source": [
    "response_columns = [\"Total Average Response Time\", \"Total Max Response Time\"]\n",
    "results.plot(x=\"Timestamp\", y=response_columns);"
   ]
  },
  {
   "cell_type": "code",
   "execution_count": 7,
   "metadata": {},
   "outputs": [
    {
     "data": {
      "text/html": [
       "<div>\n",
       "<style scoped>\n",
       "    .dataframe tbody tr th:only-of-type {\n",
       "        vertical-align: middle;\n",
       "    }\n",
       "\n",
       "    .dataframe tbody tr th {\n",
       "        vertical-align: top;\n",
       "    }\n",
       "\n",
       "    .dataframe thead tr th {\n",
       "        text-align: left;\n",
       "    }\n",
       "\n",
       "    .dataframe thead tr:last-of-type th {\n",
       "        text-align: right;\n",
       "    }\n",
       "</style>\n",
       "<table border=\"1\" class=\"dataframe\">\n",
       "  <thead>\n",
       "    <tr>\n",
       "      <th></th>\n",
       "      <th colspan=\"8\" halign=\"left\">User Count</th>\n",
       "      <th colspan=\"2\" halign=\"left\">Type</th>\n",
       "      <th>...</th>\n",
       "      <th colspan=\"2\" halign=\"left\">Total Max Response Time</th>\n",
       "      <th colspan=\"8\" halign=\"left\">Total Average Content Size</th>\n",
       "    </tr>\n",
       "    <tr>\n",
       "      <th></th>\n",
       "      <th>count</th>\n",
       "      <th>mean</th>\n",
       "      <th>std</th>\n",
       "      <th>min</th>\n",
       "      <th>25%</th>\n",
       "      <th>50%</th>\n",
       "      <th>75%</th>\n",
       "      <th>max</th>\n",
       "      <th>count</th>\n",
       "      <th>mean</th>\n",
       "      <th>...</th>\n",
       "      <th>75%</th>\n",
       "      <th>max</th>\n",
       "      <th>count</th>\n",
       "      <th>mean</th>\n",
       "      <th>std</th>\n",
       "      <th>min</th>\n",
       "      <th>25%</th>\n",
       "      <th>50%</th>\n",
       "      <th>75%</th>\n",
       "      <th>max</th>\n",
       "    </tr>\n",
       "    <tr>\n",
       "      <th>Total Median Response Time</th>\n",
       "      <th></th>\n",
       "      <th></th>\n",
       "      <th></th>\n",
       "      <th></th>\n",
       "      <th></th>\n",
       "      <th></th>\n",
       "      <th></th>\n",
       "      <th></th>\n",
       "      <th></th>\n",
       "      <th></th>\n",
       "      <th></th>\n",
       "      <th></th>\n",
       "      <th></th>\n",
       "      <th></th>\n",
       "      <th></th>\n",
       "      <th></th>\n",
       "      <th></th>\n",
       "      <th></th>\n",
       "      <th></th>\n",
       "      <th></th>\n",
       "      <th></th>\n",
       "    </tr>\n",
       "  </thead>\n",
       "  <tbody>\n",
       "    <tr>\n",
       "      <th>0.000000</th>\n",
       "      <td>41.0</td>\n",
       "      <td>8.658537</td>\n",
       "      <td>2.789353</td>\n",
       "      <td>0.0</td>\n",
       "      <td>10.0</td>\n",
       "      <td>10.0</td>\n",
       "      <td>10.0</td>\n",
       "      <td>10.0</td>\n",
       "      <td>0.0</td>\n",
       "      <td>NaN</td>\n",
       "      <td>...</td>\n",
       "      <td>0.000000</td>\n",
       "      <td>0.000000</td>\n",
       "      <td>41.0</td>\n",
       "      <td>0.0</td>\n",
       "      <td>0.0</td>\n",
       "      <td>0.0</td>\n",
       "      <td>0.0</td>\n",
       "      <td>0.0</td>\n",
       "      <td>0.0</td>\n",
       "      <td>0.0</td>\n",
       "    </tr>\n",
       "    <tr>\n",
       "      <th>13000.000000</th>\n",
       "      <td>39.0</td>\n",
       "      <td>10.000000</td>\n",
       "      <td>0.000000</td>\n",
       "      <td>10.0</td>\n",
       "      <td>10.0</td>\n",
       "      <td>10.0</td>\n",
       "      <td>10.0</td>\n",
       "      <td>10.0</td>\n",
       "      <td>0.0</td>\n",
       "      <td>NaN</td>\n",
       "      <td>...</td>\n",
       "      <td>43529.908691</td>\n",
       "      <td>43529.908691</td>\n",
       "      <td>39.0</td>\n",
       "      <td>16.0</td>\n",
       "      <td>0.0</td>\n",
       "      <td>16.0</td>\n",
       "      <td>16.0</td>\n",
       "      <td>16.0</td>\n",
       "      <td>16.0</td>\n",
       "      <td>16.0</td>\n",
       "    </tr>\n",
       "    <tr>\n",
       "      <th>14000.000000</th>\n",
       "      <td>4.0</td>\n",
       "      <td>10.000000</td>\n",
       "      <td>0.000000</td>\n",
       "      <td>10.0</td>\n",
       "      <td>10.0</td>\n",
       "      <td>10.0</td>\n",
       "      <td>10.0</td>\n",
       "      <td>10.0</td>\n",
       "      <td>0.0</td>\n",
       "      <td>NaN</td>\n",
       "      <td>...</td>\n",
       "      <td>43529.908691</td>\n",
       "      <td>43529.908691</td>\n",
       "      <td>4.0</td>\n",
       "      <td>16.0</td>\n",
       "      <td>0.0</td>\n",
       "      <td>16.0</td>\n",
       "      <td>16.0</td>\n",
       "      <td>16.0</td>\n",
       "      <td>16.0</td>\n",
       "      <td>16.0</td>\n",
       "    </tr>\n",
       "    <tr>\n",
       "      <th>17000.000000</th>\n",
       "      <td>3.0</td>\n",
       "      <td>10.000000</td>\n",
       "      <td>0.000000</td>\n",
       "      <td>10.0</td>\n",
       "      <td>10.0</td>\n",
       "      <td>10.0</td>\n",
       "      <td>10.0</td>\n",
       "      <td>10.0</td>\n",
       "      <td>0.0</td>\n",
       "      <td>NaN</td>\n",
       "      <td>...</td>\n",
       "      <td>43529.908691</td>\n",
       "      <td>43529.908691</td>\n",
       "      <td>3.0</td>\n",
       "      <td>16.0</td>\n",
       "      <td>0.0</td>\n",
       "      <td>16.0</td>\n",
       "      <td>16.0</td>\n",
       "      <td>16.0</td>\n",
       "      <td>16.0</td>\n",
       "      <td>16.0</td>\n",
       "    </tr>\n",
       "    <tr>\n",
       "      <th>39000.000000</th>\n",
       "      <td>3.0</td>\n",
       "      <td>10.000000</td>\n",
       "      <td>0.000000</td>\n",
       "      <td>10.0</td>\n",
       "      <td>10.0</td>\n",
       "      <td>10.0</td>\n",
       "      <td>10.0</td>\n",
       "      <td>10.0</td>\n",
       "      <td>0.0</td>\n",
       "      <td>NaN</td>\n",
       "      <td>...</td>\n",
       "      <td>43529.908691</td>\n",
       "      <td>43529.908691</td>\n",
       "      <td>3.0</td>\n",
       "      <td>16.0</td>\n",
       "      <td>0.0</td>\n",
       "      <td>16.0</td>\n",
       "      <td>16.0</td>\n",
       "      <td>16.0</td>\n",
       "      <td>16.0</td>\n",
       "      <td>16.0</td>\n",
       "    </tr>\n",
       "    <tr>\n",
       "      <th>40000.000000</th>\n",
       "      <td>1.0</td>\n",
       "      <td>10.000000</td>\n",
       "      <td>NaN</td>\n",
       "      <td>10.0</td>\n",
       "      <td>10.0</td>\n",
       "      <td>10.0</td>\n",
       "      <td>10.0</td>\n",
       "      <td>10.0</td>\n",
       "      <td>0.0</td>\n",
       "      <td>NaN</td>\n",
       "      <td>...</td>\n",
       "      <td>43529.908691</td>\n",
       "      <td>43529.908691</td>\n",
       "      <td>1.0</td>\n",
       "      <td>16.0</td>\n",
       "      <td>NaN</td>\n",
       "      <td>16.0</td>\n",
       "      <td>16.0</td>\n",
       "      <td>16.0</td>\n",
       "      <td>16.0</td>\n",
       "      <td>16.0</td>\n",
       "    </tr>\n",
       "    <tr>\n",
       "      <th>40287.908749</th>\n",
       "      <td>4.0</td>\n",
       "      <td>10.000000</td>\n",
       "      <td>0.000000</td>\n",
       "      <td>10.0</td>\n",
       "      <td>10.0</td>\n",
       "      <td>10.0</td>\n",
       "      <td>10.0</td>\n",
       "      <td>10.0</td>\n",
       "      <td>0.0</td>\n",
       "      <td>NaN</td>\n",
       "      <td>...</td>\n",
       "      <td>40287.908749</td>\n",
       "      <td>40287.908749</td>\n",
       "      <td>4.0</td>\n",
       "      <td>16.0</td>\n",
       "      <td>0.0</td>\n",
       "      <td>16.0</td>\n",
       "      <td>16.0</td>\n",
       "      <td>16.0</td>\n",
       "      <td>16.0</td>\n",
       "      <td>16.0</td>\n",
       "    </tr>\n",
       "    <tr>\n",
       "      <th>41000.000000</th>\n",
       "      <td>16.0</td>\n",
       "      <td>10.000000</td>\n",
       "      <td>0.000000</td>\n",
       "      <td>10.0</td>\n",
       "      <td>10.0</td>\n",
       "      <td>10.0</td>\n",
       "      <td>10.0</td>\n",
       "      <td>10.0</td>\n",
       "      <td>0.0</td>\n",
       "      <td>NaN</td>\n",
       "      <td>...</td>\n",
       "      <td>43529.908691</td>\n",
       "      <td>43529.908691</td>\n",
       "      <td>16.0</td>\n",
       "      <td>16.0</td>\n",
       "      <td>0.0</td>\n",
       "      <td>16.0</td>\n",
       "      <td>16.0</td>\n",
       "      <td>16.0</td>\n",
       "      <td>16.0</td>\n",
       "      <td>16.0</td>\n",
       "    </tr>\n",
       "  </tbody>\n",
       "</table>\n",
       "<p>8 rows × 168 columns</p>\n",
       "</div>"
      ],
      "text/plain": [
       "                           User Count                                         \\\n",
       "                                count       mean       std   min   25%   50%   \n",
       "Total Median Response Time                                                     \n",
       "0.000000                         41.0   8.658537  2.789353   0.0  10.0  10.0   \n",
       "13000.000000                     39.0  10.000000  0.000000  10.0  10.0  10.0   \n",
       "14000.000000                      4.0  10.000000  0.000000  10.0  10.0  10.0   \n",
       "17000.000000                      3.0  10.000000  0.000000  10.0  10.0  10.0   \n",
       "39000.000000                      3.0  10.000000  0.000000  10.0  10.0  10.0   \n",
       "40000.000000                      1.0  10.000000       NaN  10.0  10.0  10.0   \n",
       "40287.908749                      4.0  10.000000  0.000000  10.0  10.0  10.0   \n",
       "41000.000000                     16.0  10.000000  0.000000  10.0  10.0  10.0   \n",
       "\n",
       "                                        Type       ...  \\\n",
       "                             75%   max count mean  ...   \n",
       "Total Median Response Time                         ...   \n",
       "0.000000                    10.0  10.0   0.0  NaN  ...   \n",
       "13000.000000                10.0  10.0   0.0  NaN  ...   \n",
       "14000.000000                10.0  10.0   0.0  NaN  ...   \n",
       "17000.000000                10.0  10.0   0.0  NaN  ...   \n",
       "39000.000000                10.0  10.0   0.0  NaN  ...   \n",
       "40000.000000                10.0  10.0   0.0  NaN  ...   \n",
       "40287.908749                10.0  10.0   0.0  NaN  ...   \n",
       "41000.000000                10.0  10.0   0.0  NaN  ...   \n",
       "\n",
       "                           Total Max Response Time                \\\n",
       "                                               75%           max   \n",
       "Total Median Response Time                                         \n",
       "0.000000                                  0.000000      0.000000   \n",
       "13000.000000                          43529.908691  43529.908691   \n",
       "14000.000000                          43529.908691  43529.908691   \n",
       "17000.000000                          43529.908691  43529.908691   \n",
       "39000.000000                          43529.908691  43529.908691   \n",
       "40000.000000                          43529.908691  43529.908691   \n",
       "40287.908749                          40287.908749  40287.908749   \n",
       "41000.000000                          43529.908691  43529.908691   \n",
       "\n",
       "                           Total Average Content Size                         \\\n",
       "                                                count  mean  std   min   25%   \n",
       "Total Median Response Time                                                     \n",
       "0.000000                                         41.0   0.0  0.0   0.0   0.0   \n",
       "13000.000000                                     39.0  16.0  0.0  16.0  16.0   \n",
       "14000.000000                                      4.0  16.0  0.0  16.0  16.0   \n",
       "17000.000000                                      3.0  16.0  0.0  16.0  16.0   \n",
       "39000.000000                                      3.0  16.0  0.0  16.0  16.0   \n",
       "40000.000000                                      1.0  16.0  NaN  16.0  16.0   \n",
       "40287.908749                                      4.0  16.0  0.0  16.0  16.0   \n",
       "41000.000000                                     16.0  16.0  0.0  16.0  16.0   \n",
       "\n",
       "                                              \n",
       "                             50%   75%   max  \n",
       "Total Median Response Time                    \n",
       "0.000000                     0.0   0.0   0.0  \n",
       "13000.000000                16.0  16.0  16.0  \n",
       "14000.000000                16.0  16.0  16.0  \n",
       "17000.000000                16.0  16.0  16.0  \n",
       "39000.000000                16.0  16.0  16.0  \n",
       "40000.000000                16.0  16.0  16.0  \n",
       "40287.908749                16.0  16.0  16.0  \n",
       "41000.000000                16.0  16.0  16.0  \n",
       "\n",
       "[8 rows x 168 columns]"
      ]
     },
     "execution_count": 7,
     "metadata": {},
     "output_type": "execute_result"
    }
   ],
   "source": [
    "results.groupby(\"Total Median Response Time\").describe()"
   ]
  },
  {
   "cell_type": "code",
   "execution_count": null,
   "metadata": {},
   "outputs": [],
   "source": []
  }
 ],
 "metadata": {
  "kernelspec": {
   "display_name": "Python 3.7.13 64-bit ('admirer')",
   "language": "python",
   "name": "python3"
  },
  "language_info": {
   "codemirror_mode": {
    "name": "ipython",
    "version": 3
   },
   "file_extension": ".py",
   "mimetype": "text/x-python",
   "name": "python",
   "nbconvert_exporter": "python",
   "pygments_lexer": "ipython3",
   "version": "3.7.13"
  },
  "orig_nbformat": 4,
  "vscode": {
   "interpreter": {
    "hash": "4c4de3d17692a4fce36158e1e6b4cc65d2c1c1dbb8a445fcd77e7a07c1299f79"
   }
  }
 },
 "nbformat": 4,
 "nbformat_minor": 2
}
