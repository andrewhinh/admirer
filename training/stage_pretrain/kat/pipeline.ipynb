{
 "cells": [
  {
   "cell_type": "code",
   "execution_count": null,
   "metadata": {},
   "outputs": [],
   "source": [
    "# Libraries\n",
    "import model as md\n",
    "import data\n",
    "import torch\n",
    "import transformers\n",
    "from pathlib import Path\n",
    "from torch.utils.data import DataLoader, SequentialSampler\n",
    "\n",
    "\n",
    "# Variables\n",
    "HOME_DIR = Path(\"/home/andrewhinh/Desktop/Projects/\")\n",
    "CURR_DIR = Path(\"./\")\n",
    "PRETRAINED_MODEL_PATH = \"large_both_knowledge/\"\n",
    "STAGED_MODEL_FILENAME = \"model.pt\"\n",
    "\n",
    "from_model_path = HOME_DIR / PRETRAINED_MODEL_PATH\n",
    "to_model_path = CURR_DIR / STAGED_MODEL_FILENAME\n",
    "\n",
    "text_maxlength = 64\n",
    "n_context = 40\n",
    "per_gpu_batch_size = 1\n",
    "num_workers = 16\n",
    "max_length = 10\n",
    "\n",
    "\n",
    "# Load best pre-trained model from https://github.com/guilk/KAT\n",
    "model_class = md.FiDT5\n",
    "model = model_class.from_pretrained(from_model_path)\n",
    "\n",
    "\n",
    "# Loading data\n",
    "model_name = 't5-large'\n",
    "tokenizer = transformers.T5Tokenizer.from_pretrained(model_name)\n",
    "collator = data.OKvqaCollator(text_maxlength, tokenizer)\n",
    "\n",
    "eval_examples = data.load_okvqa_data(\n",
    "    HOME_DIR / 'val2014',\n",
    "    split_type='val2014',\n",
    "    use_gpt=True\n",
    ")\n",
    "\n",
    "dataset = data.OkvqaDataset(eval_examples, n_context)\n",
    "model.eval()\n",
    "\n",
    "sampler = SequentialSampler(dataset)\n",
    "dataloader = DataLoader(dataset,\n",
    "    sampler=sampler,\n",
    "    batch_size=per_gpu_batch_size,\n",
    "    drop_last=False,\n",
    "    num_workers=num_workers,\n",
    "    collate_fn=collator\n",
    ")\n",
    "\n",
    "\n",
    "# Generating Answers\n",
    "answers = []\n",
    "model.eval()\n",
    "model = model.module if hasattr(model, \"module\") else model\n",
    "\n",
    "with torch.no_grad():\n",
    "    for i, batch in enumerate(dataloader):\n",
    "        (_, _, _, _, context_ids, context_mask) = batch\n",
    "\n",
    "        outputs = model.generate(\n",
    "            input_ids=context_ids,\n",
    "            attention_mask=context_mask,\n",
    "            max_length=max_length\n",
    "        )\n",
    "\n",
    "        for k, o in enumerate(outputs): answers.append(tokenizer.decode(o, skip_special_tokens=True))\n",
    "\n",
    "print(answers)"
   ]
  },
  {
   "cell_type": "code",
   "execution_count": null,
   "metadata": {},
   "outputs": [],
   "source": []
  }
 ],
 "metadata": {
  "kernelspec": {
   "display_name": "Python 3.7.13 ('admirer')",
   "language": "python",
   "name": "python3"
  },
  "language_info": {
   "codemirror_mode": {
    "name": "ipython",
    "version": 3
   },
   "file_extension": ".py",
   "mimetype": "text/x-python",
   "name": "python",
   "nbconvert_exporter": "python",
   "pygments_lexer": "ipython3",
   "version": "3.7.13"
  },
  "orig_nbformat": 4,
  "vscode": {
   "interpreter": {
    "hash": "794edec9fed30d359ea35e096030afe78c575ef76b59e898a32bdd891c4fb20a"
   }
  }
 },
 "nbformat": 4,
 "nbformat_minor": 2
}
